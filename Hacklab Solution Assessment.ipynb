{
 "cells": [
  {
   "cell_type": "code",
   "execution_count": 1,
   "id": "2394c561",
   "metadata": {},
   "outputs": [],
   "source": [
    "from flask import Flask, render_template, request\n",
    "from transitions import Machine\n",
    "from threading import Timer\n"
   ]
  },
  {
   "cell_type": "code",
   "execution_count": 2,
   "id": "4eddd494",
   "metadata": {},
   "outputs": [],
   "source": [
    "\n",
    "app = Flask(__name__)\n",
    "\n",
    "states = ['red', 'yellow', 'green']\n",
    "transitions = [\n",
    "    {'trigger': 'red_to_green', 'source': 'red', 'dest': 'green'},\n",
    "    {'trigger': 'green_to_yellow', 'source': 'green', 'dest': 'yellow'},\n",
    "    {'trigger': 'yellow_to_red', 'source': 'yellow', 'dest': 'red'},\n",
    "]"
   ]
  },
  {
   "cell_type": "code",
   "execution_count": null,
   "id": "2b046b93",
   "metadata": {},
   "outputs": [],
   "source": [
    "from tkinter import *\n",
    "import time\n",
    "\n",
    "class TrafficLight:\n",
    "    def __init__(self):\n",
    "        self.state = \"red\"\n",
    "        self.last_transition_time = time.time()\n",
    "        \n",
    "        self.root = Tk()\n",
    "        self.root.title(\"Traffic Light\")\n",
    "        self.red_button = Button(self.root, text=\"Red\", command=self.set_red, bg=\"black\", fg=\"white\")\n",
    "        self.red_button.pack()\n",
    "        self.green_button = Button(self.root, text=\"Green\", command=self.set_green, bg=\"black\", fg=\"white\")\n",
    "        self.green_button.pack()\n",
    "        self.yellow_button = Button(self.root, text=\"Yellow\", command=self.set_yellow, bg=\"black\", fg=\"white\")\n",
    "        self.yellow_button.pack()\n",
    "        self.update_traffic_light()\n",
    "        self.root.mainloop()\n",
    "    \n",
    "    def set_red(self):\n",
    "        self.state = \"red\"\n",
    "        self.last_transition_time = time.time()\n",
    "        self.update_traffic_light()\n",
    "    \n",
    "    def set_green(self):\n",
    "        self.state = \"green\"\n",
    "        self.last_transition_time = time.time()\n",
    "        self.update_traffic_light()\n",
    "    \n",
    "    def set_yellow(self):\n",
    "        self.state = \"yellow\"\n",
    "        self.last_transition_time = time.time()\n",
    "        self.update_traffic_light()\n",
    "    \n",
    "    def update_traffic_light(self):\n",
    "        now = time.time()\n",
    "        if self.state == \"red\":\n",
    "            self.red_button.configure(bg=\"red\")\n",
    "            self.green_button.configure(bg=\"black\")\n",
    "            self.yellow_button.configure(bg=\"black\")\n",
    "            if now - self.last_transition_time >= 20:\n",
    "                self.state = \"green\"\n",
    "                self.last_transition_time = time.time()\n",
    "        elif self.state == \"green\":\n",
    "            self.red_button.configure(bg=\"black\")\n",
    "            self.green_button.configure(bg=\"green\")\n",
    "            self.yellow_button.configure(bg=\"black\")\n",
    "            if now - self.last_transition_time >= 15:\n",
    "                self.state = \"yellow\"\n",
    "                self.last_transition_time = time.time()\n",
    "        else:\n",
    "            self.red_button.configure(bg=\"black\")\n",
    "            self.green_button.configure(bg=\"black\")\n",
    "            self.yellow_button.configure(bg=\"yellow\")\n",
    "            if now - self.last_transition_time >= 5:\n",
    "                self.state = \"red\"\n",
    "                self.last_transition_time = time.time()\n",
    "        self.root.after(100, self.update_traffic_light)\n",
    "\n",
    "traffic_light = TrafficLight()\n"
   ]
  },
  {
   "cell_type": "code",
   "execution_count": null,
   "id": "4787332d",
   "metadata": {},
   "outputs": [],
   "source": [
    "while True:\n",
    "    command = input(\"Enter a command (stop, red, green, yellow): \")\n",
    "    if command == \"stop\":\n",
    "        traffic_light.stop()\n",
    "        break\n",
    "    elif command == \"red\":\n",
    "        traffic_light.to_red()\n",
    "    elif command == \"green\":\n",
    "        if traffic_light.state == \"yellow\":\n",
    "            traffic_light.to_green(after=\"yellow\")\n",
    "        else:\n",
    "            traffic_light.to_green()\n",
    "    elif command == \"yellow\":\n",
    "        if traffic_light.state == \"green\":\n",
    "            traffic_light.to_yellow(after=\"green\")\n",
    "        else:\n",
    "            traffic_light.to_yellow()\n"
   ]
  },
  {
   "cell_type": "code",
   "execution_count": null,
   "id": "41d4bf7e",
   "metadata": {},
   "outputs": [],
   "source": []
  }
 ],
 "metadata": {
  "kernelspec": {
   "display_name": "Python 3 (ipykernel)",
   "language": "python",
   "name": "python3"
  },
  "language_info": {
   "codemirror_mode": {
    "name": "ipython",
    "version": 3
   },
   "file_extension": ".py",
   "mimetype": "text/x-python",
   "name": "python",
   "nbconvert_exporter": "python",
   "pygments_lexer": "ipython3",
   "version": "3.9.13"
  }
 },
 "nbformat": 4,
 "nbformat_minor": 5
}
